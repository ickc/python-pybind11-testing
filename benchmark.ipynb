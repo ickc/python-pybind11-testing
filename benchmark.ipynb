{
 "cells": [
  {
   "cell_type": "code",
   "execution_count": null,
   "id": "7cbc9521-d2dd-4155-be40-b99decb8c28e",
   "metadata": {},
   "outputs": [],
   "source": [
    "%load_ext wurlitzer"
   ]
  },
  {
   "cell_type": "code",
   "execution_count": null,
   "id": "0a9a3e69-fc3a-46c2-a250-587c4fca7f92",
   "metadata": {},
   "outputs": [],
   "source": [
    "import python_example"
   ]
  },
  {
   "cell_type": "code",
   "execution_count": null,
   "id": "4468fc59-6ab1-49db-8e48-c32669b1eca4",
   "metadata": {},
   "outputs": [],
   "source": [
    "import numpy as np\n",
    "from numba import jit"
   ]
  },
  {
   "cell_type": "code",
   "execution_count": null,
   "id": "0c03852f-b7c3-4af8-bedf-4edfdf4580ee",
   "metadata": {},
   "outputs": [],
   "source": [
    "def _fma_no_jit(\n",
    "    out: 'np.ndarray[np.float64]',\n",
    "    weights: 'np.ndarray[np.float64]',\n",
    "    *arrays: 'np.ndarray[np.float64]',\n",
    "):\n",
    "    \"\"\"Simple fused multiply–add, compiled to avoid Python memory implications.\n",
    "\n",
    "    :param out: must be zero array in the same shape of each in `arrays`\n",
    "\n",
    "    If not compiled, a lot of Python objects will be created,\n",
    "    and as the Python garbage collector is inefficient,\n",
    "    it would have larger memory footprints.\n",
    "    \"\"\"\n",
    "    for weight, array in zip(weights, arrays):\n",
    "        out += weight * array"
   ]
  },
  {
   "cell_type": "code",
   "execution_count": null,
   "id": "c1003f5e-01ef-4b6f-a280-56dc049ec755",
   "metadata": {},
   "outputs": [],
   "source": [
    "@jit(nopython=True, nogil=True, cache=False)\n",
    "def _fma(\n",
    "    out: 'np.ndarray[np.float64]',\n",
    "    weights: 'np.ndarray[np.float64]',\n",
    "    *arrays: 'np.ndarray[np.float64]',\n",
    "):\n",
    "    \"\"\"Simple fused multiply–add, compiled to avoid Python memory implications.\n",
    "\n",
    "    :param out: must be zero array in the same shape of each in `arrays`\n",
    "\n",
    "    If not compiled, a lot of Python objects will be created,\n",
    "    and as the Python garbage collector is inefficient,\n",
    "    it would have larger memory footprints.\n",
    "    \"\"\"\n",
    "    for weight, array in zip(weights, arrays):\n",
    "        out += weight * array"
   ]
  },
  {
   "cell_type": "code",
   "execution_count": null,
   "id": "610935ec-fe74-482f-b9ac-0852eb1abc8e",
   "metadata": {},
   "outputs": [],
   "source": [
    "@jit(nopython=True, nogil=True, parallel=True, cache=False)\n",
    "def _fma_parallel(\n",
    "    out: 'np.ndarray[np.float64]',\n",
    "    weights: 'np.ndarray[np.float64]',\n",
    "    *arrays: 'np.ndarray[np.float64]',\n",
    "):\n",
    "    \"\"\"Simple fused multiply–add, compiled to avoid Python memory implications.\n",
    "\n",
    "    :param out: must be zero array in the same shape of each in `arrays`\n",
    "\n",
    "    If not compiled, a lot of Python objects will be created,\n",
    "    and as the Python garbage collector is inefficient,\n",
    "    it would have larger memory footprints.\n",
    "    \"\"\"\n",
    "    for weight, array in zip(weights, arrays):\n",
    "        out += weight * array"
   ]
  },
  {
   "cell_type": "markdown",
   "id": "982962a0-8b45-4f30-93f1-0c6dbefcdc8c",
   "metadata": {},
   "source": [
    "# Test"
   ]
  },
  {
   "cell_type": "code",
   "execution_count": null,
   "id": "c9fd887b-bfb3-44a6-9e07-8bcb16768130",
   "metadata": {},
   "outputs": [],
   "source": [
    "shape = (10,)\n",
    "array = np.random.randn(*shape)\n",
    "weights = np.random.randn(*shape)\n",
    "out_original = np.random.randn(*shape)"
   ]
  },
  {
   "cell_type": "code",
   "execution_count": null,
   "id": "af0cdfbe-283f-4c1d-90af-aea87490f827",
   "metadata": {},
   "outputs": [],
   "source": [
    "out = out_original.copy()\n",
    "python_example.fma(out, weights, array)\n",
    "np.testing.assert_array_equal(out, out_original + weights * array)"
   ]
  },
  {
   "cell_type": "code",
   "execution_count": null,
   "id": "a945ebf4-4b16-4a0e-a6c6-fd784170ea6e",
   "metadata": {},
   "outputs": [],
   "source": [
    "out = out_original.copy()\n",
    "weight = weights[0]\n",
    "python_example.fma_scalar_weight(out, weight, array)\n",
    "np.testing.assert_array_equal(out, out_original + weight * array)"
   ]
  },
  {
   "cell_type": "code",
   "execution_count": null,
   "id": "6d550212-5ed3-422a-a60c-830f663859ee",
   "metadata": {},
   "outputs": [],
   "source": [
    "out = out_original.copy()\n",
    "weight = weights[0]\n",
    "python_example.fma_scalar_weight(out, weight, array)\n",
    "out2 = out_original.copy()\n",
    "_fma(out2, np.array([weight]), array)\n",
    "np.testing.assert_array_equal(out, out2)"
   ]
  },
  {
   "cell_type": "code",
   "execution_count": null,
   "id": "f3c258ff-d2ef-4cf0-b3ca-7e72bff7f17c",
   "metadata": {},
   "outputs": [],
   "source": [
    "shape = (10,)\n",
    "n = 3\n",
    "arrays = [np.random.randn(*shape) for _ in range(n)]\n",
    "weights = np.random.randn(n)\n",
    "out_original = np.random.randn(*shape)"
   ]
  },
  {
   "cell_type": "code",
   "execution_count": null,
   "id": "395dc02e-d048-4702-a3d7-fa541c857b32",
   "metadata": {},
   "outputs": [],
   "source": [
    "out = out_original.copy()\n",
    "python_example.fma_vector_weights(out, weights, *arrays)\n",
    "out2 = out_original.copy()\n",
    "_fma(out2, weights, *arrays)\n",
    "out3 = out_original.copy()\n",
    "_fma_parallel(out3, weights, *arrays)\n",
    "out4 = out_original.copy()\n",
    "python_example.fma_vector_weights_arrays(out4, weights, *arrays)\n",
    "out5 = out_original.copy()\n",
    "_fma_no_jit(out5, weights, *arrays)\n",
    "np.testing.assert_array_equal(out, out2)\n",
    "np.testing.assert_array_equal(out, out3)\n",
    "np.testing.assert_array_equal(out, out4)\n",
    "np.testing.assert_array_equal(out, out5)"
   ]
  },
  {
   "cell_type": "markdown",
   "id": "79f596f8-99e7-4e43-9e31-d08bc44e4a88",
   "metadata": {},
   "source": [
    "# Benchmark"
   ]
  },
  {
   "cell_type": "code",
   "execution_count": null,
   "id": "678afe9c-7d94-4f98-92ce-711c244caa4a",
   "metadata": {},
   "outputs": [],
   "source": [
    "%%time\n",
    "n = 68\n",
    "shape = (10000000,)\n",
    "arrays = [np.random.randn(*shape) for _ in range(n)]\n",
    "weights = np.random.randn(n)"
   ]
  },
  {
   "cell_type": "raw",
   "id": "65299ab4-be47-4681-885c-76a3162b240c",
   "metadata": {},
   "source": [
    "out = np.zeros(*shape)"
   ]
  },
  {
   "cell_type": "raw",
   "id": "e80e2c14-1d06-4b38-a93d-2062f8236725",
   "metadata": {},
   "source": [
    "%timeit _fma_no_jit(out, weights, *arrays)"
   ]
  },
  {
   "cell_type": "raw",
   "id": "9748afd1-8acf-4086-b31d-07ef0e42fadb",
   "metadata": {},
   "source": [
    "out = np.zeros(*shape)"
   ]
  },
  {
   "cell_type": "raw",
   "id": "e81f79fd-23b2-49f8-ad6c-eef0e9560096",
   "metadata": {},
   "source": [
    "%timeit _fma(out, weights, *arrays)"
   ]
  },
  {
   "cell_type": "raw",
   "id": "fa2d67ed-9afe-4a76-875f-1691851d0824",
   "metadata": {},
   "source": [
    "out = np.zeros(*shape)"
   ]
  },
  {
   "cell_type": "raw",
   "id": "25787fbc-b8fa-4fa6-a934-05db2d95e5cf",
   "metadata": {},
   "source": [
    "%timeit _fma_parallel(out, weights, *arrays)"
   ]
  },
  {
   "cell_type": "code",
   "execution_count": null,
   "id": "0d5b685b-ba5e-483e-8d64-277fc8c8c4c3",
   "metadata": {},
   "outputs": [],
   "source": [
    "out = np.zeros(*shape)"
   ]
  },
  {
   "cell_type": "code",
   "execution_count": null,
   "id": "81189fd8-d025-41db-8c1c-a0f021ce3f77",
   "metadata": {},
   "outputs": [],
   "source": [
    "%timeit python_example.fma_vector_weights(out, weights, *arrays)"
   ]
  },
  {
   "cell_type": "code",
   "execution_count": null,
   "id": "08beb0a6-b2ab-4fa6-86b5-4c0eca3e51c1",
   "metadata": {},
   "outputs": [],
   "source": [
    "out = np.zeros(*shape)"
   ]
  },
  {
   "cell_type": "code",
   "execution_count": null,
   "id": "cb2e1224-6ea8-4950-9285-32bfbae21bff",
   "metadata": {},
   "outputs": [],
   "source": [
    "%timeit python_example.fma_vector_weights_arrays(out, weights, *arrays)"
   ]
  }
 ],
 "metadata": {
  "kernelspec": {
   "display_name": "pybind11-test",
   "language": "python",
   "name": "pybind11-test"
  },
  "language_info": {
   "codemirror_mode": {
    "name": "ipython",
    "version": 3
   },
   "file_extension": ".py",
   "mimetype": "text/x-python",
   "name": "python",
   "nbconvert_exporter": "python",
   "pygments_lexer": "ipython3",
   "version": "3.9.6"
  }
 },
 "nbformat": 4,
 "nbformat_minor": 5
}
